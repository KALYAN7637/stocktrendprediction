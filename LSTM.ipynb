{
 "cells": [
  {
   "cell_type": "code",
   "execution_count": 2,
   "metadata": {
    "colab": {
     "base_uri": "https://localhost:8080/"
    },
    "executionInfo": {
     "elapsed": 11409,
     "status": "ok",
     "timestamp": 1681367852014,
     "user": {
      "displayName": "MANI DURGA SIVA SAI GOPU",
      "userId": "11159615351266071837"
     },
     "user_tz": -330
    },
    "id": "jcm-6uMlVO9Q",
    "outputId": "e9e42a27-8e3f-480d-a835-51d051a30f25"
   },
   "outputs": [
    {
     "name": "stdout",
     "output_type": "stream",
     "text": [
      "Requirement already satisfied: yfinance in c:\\users\\thiru\\appdata\\local\\programs\\python\\python310\\lib\\site-packages (0.2.52)\n",
      "Requirement already satisfied: numpy>=1.16.5 in c:\\users\\thiru\\appdata\\local\\programs\\python\\python310\\lib\\site-packages (from yfinance) (2.0.2)\n",
      "Requirement already satisfied: lxml>=4.9.1 in c:\\users\\thiru\\appdata\\local\\programs\\python\\python310\\lib\\site-packages (from yfinance) (5.3.0)\n",
      "Requirement already satisfied: peewee>=3.16.2 in c:\\users\\thiru\\appdata\\local\\programs\\python\\python310\\lib\\site-packages (from yfinance) (3.17.8)\n",
      "Requirement already satisfied: pandas>=1.3.0 in c:\\users\\thiru\\appdata\\local\\programs\\python\\python310\\lib\\site-packages (from yfinance) (2.2.3)\n",
      "Requirement already satisfied: requests>=2.31 in c:\\users\\thiru\\appdata\\local\\programs\\python\\python310\\lib\\site-packages (from yfinance) (2.32.3)\n",
      "Requirement already satisfied: beautifulsoup4>=4.11.1 in c:\\users\\thiru\\appdata\\local\\programs\\python\\python310\\lib\\site-packages (from yfinance) (4.12.3)\n",
      "Requirement already satisfied: pytz>=2022.5 in c:\\users\\thiru\\appdata\\local\\programs\\python\\python310\\lib\\site-packages (from yfinance) (2024.2)\n",
      "Requirement already satisfied: frozendict>=2.3.4 in c:\\users\\thiru\\appdata\\local\\programs\\python\\python310\\lib\\site-packages (from yfinance) (2.4.6)\n",
      "Requirement already satisfied: platformdirs>=2.0.0 in c:\\users\\thiru\\appdata\\local\\programs\\python\\python310\\lib\\site-packages (from yfinance) (4.3.6)\n",
      "Requirement already satisfied: html5lib>=1.1 in c:\\users\\thiru\\appdata\\local\\programs\\python\\python310\\lib\\site-packages (from yfinance) (1.1)\n",
      "Requirement already satisfied: multitasking>=0.0.7 in c:\\users\\thiru\\appdata\\local\\programs\\python\\python310\\lib\\site-packages (from yfinance) (0.0.11)\n",
      "Requirement already satisfied: soupsieve>1.2 in c:\\users\\thiru\\appdata\\local\\programs\\python\\python310\\lib\\site-packages (from beautifulsoup4>=4.11.1->yfinance) (2.6)\n",
      "Requirement already satisfied: webencodings in c:\\users\\thiru\\appdata\\local\\programs\\python\\python310\\lib\\site-packages (from html5lib>=1.1->yfinance) (0.5.1)\n",
      "Requirement already satisfied: six>=1.9 in c:\\users\\thiru\\appdata\\local\\programs\\python\\python310\\lib\\site-packages (from html5lib>=1.1->yfinance) (1.17.0)\n",
      "Requirement already satisfied: python-dateutil>=2.8.2 in c:\\users\\thiru\\appdata\\local\\programs\\python\\python310\\lib\\site-packages (from pandas>=1.3.0->yfinance) (2.9.0.post0)\n",
      "Requirement already satisfied: tzdata>=2022.7 in c:\\users\\thiru\\appdata\\local\\programs\\python\\python310\\lib\\site-packages (from pandas>=1.3.0->yfinance) (2025.1)\n",
      "Requirement already satisfied: certifi>=2017.4.17 in c:\\users\\thiru\\appdata\\local\\programs\\python\\python310\\lib\\site-packages (from requests>=2.31->yfinance) (2024.12.14)\n",
      "Requirement already satisfied: charset-normalizer<4,>=2 in c:\\users\\thiru\\appdata\\local\\programs\\python\\python310\\lib\\site-packages (from requests>=2.31->yfinance) (3.4.1)\n",
      "Requirement already satisfied: urllib3<3,>=1.21.1 in c:\\users\\thiru\\appdata\\local\\programs\\python\\python310\\lib\\site-packages (from requests>=2.31->yfinance) (2.3.0)\n",
      "Requirement already satisfied: idna<4,>=2.5 in c:\\users\\thiru\\appdata\\local\\programs\\python\\python310\\lib\\site-packages (from requests>=2.31->yfinance) (3.10)\n",
      "Note: you may need to restart the kernel to use updated packages.\n"
     ]
    },
    {
     "name": "stderr",
     "output_type": "stream",
     "text": [
      "\n",
      "[notice] A new release of pip available: 22.3.1 -> 25.0\n",
      "[notice] To update, run: python.exe -m pip install --upgrade pip\n"
     ]
    }
   ],
   "source": [
    "pip install yfinance"
   ]
  },
  {
   "cell_type": "code",
   "execution_count": 3,
   "metadata": {},
   "outputs": [
    {
     "name": "stdout",
     "output_type": "stream",
     "text": [
      "Requirement already satisfied: plotly.express in c:\\users\\thiru\\appdata\\local\\programs\\python\\python310\\lib\\site-packages (0.4.1)\n",
      "Note: you may need to restart the kernel to use updated packages.\n"
     ]
    },
    {
     "name": "stderr",
     "output_type": "stream",
     "text": [
      "ERROR: Could not find a version that satisfies the requirement as (from versions: none)\n",
      "ERROR: No matching distribution found for as\n",
      "\n",
      "[notice] A new release of pip available: 22.3.1 -> 25.0\n",
      "[notice] To update, run: python.exe -m pip install --upgrade pip\n"
     ]
    }
   ],
   "source": [
    "pip install plotly.express as px"
   ]
  },
  {
   "cell_type": "code",
   "execution_count": 4,
   "metadata": {},
   "outputs": [
    {
     "name": "stdout",
     "output_type": "stream",
     "text": [
      "Requirement already satisfied: pandas_datareader in c:\\users\\thiru\\appdata\\local\\programs\\python\\python310\\lib\\site-packages (0.10.0)\n",
      "Requirement already satisfied: pandas>=0.23 in c:\\users\\thiru\\appdata\\local\\programs\\python\\python310\\lib\\site-packages (from pandas_datareader) (2.2.3)\n",
      "Requirement already satisfied: requests>=2.19.0 in c:\\users\\thiru\\appdata\\local\\programs\\python\\python310\\lib\\site-packages (from pandas_datareader) (2.32.3)\n",
      "Requirement already satisfied: lxml in c:\\users\\thiru\\appdata\\local\\programs\\python\\python310\\lib\\site-packages (from pandas_datareader) (5.3.0)\n",
      "Requirement already satisfied: tzdata>=2022.7 in c:\\users\\thiru\\appdata\\local\\programs\\python\\python310\\lib\\site-packages (from pandas>=0.23->pandas_datareader) (2025.1)\n",
      "Requirement already satisfied: numpy>=1.22.4 in c:\\users\\thiru\\appdata\\local\\programs\\python\\python310\\lib\\site-packages (from pandas>=0.23->pandas_datareader) (2.0.2)\n",
      "Requirement already satisfied: pytz>=2020.1 in c:\\users\\thiru\\appdata\\local\\programs\\python\\python310\\lib\\site-packages (from pandas>=0.23->pandas_datareader) (2024.2)\n",
      "Requirement already satisfied: python-dateutil>=2.8.2 in c:\\users\\thiru\\appdata\\local\\programs\\python\\python310\\lib\\site-packages (from pandas>=0.23->pandas_datareader) (2.9.0.post0)\n",
      "Requirement already satisfied: idna<4,>=2.5 in c:\\users\\thiru\\appdata\\local\\programs\\python\\python310\\lib\\site-packages (from requests>=2.19.0->pandas_datareader) (3.10)\n",
      "Requirement already satisfied: urllib3<3,>=1.21.1 in c:\\users\\thiru\\appdata\\local\\programs\\python\\python310\\lib\\site-packages (from requests>=2.19.0->pandas_datareader) (2.3.0)\n",
      "Requirement already satisfied: charset-normalizer<4,>=2 in c:\\users\\thiru\\appdata\\local\\programs\\python\\python310\\lib\\site-packages (from requests>=2.19.0->pandas_datareader) (3.4.1)\n",
      "Requirement already satisfied: certifi>=2017.4.17 in c:\\users\\thiru\\appdata\\local\\programs\\python\\python310\\lib\\site-packages (from requests>=2.19.0->pandas_datareader) (2024.12.14)\n",
      "Requirement already satisfied: six>=1.5 in c:\\users\\thiru\\appdata\\local\\programs\\python\\python310\\lib\\site-packages (from python-dateutil>=2.8.2->pandas>=0.23->pandas_datareader) (1.17.0)\n",
      "Note: you may need to restart the kernel to use updated packages.\n"
     ]
    },
    {
     "name": "stderr",
     "output_type": "stream",
     "text": [
      "\n",
      "[notice] A new release of pip available: 22.3.1 -> 25.0\n",
      "[notice] To update, run: python.exe -m pip install --upgrade pip\n"
     ]
    }
   ],
   "source": [
    "pip install pandas_datareader"
   ]
  },
  {
   "cell_type": "code",
   "execution_count": 5,
   "metadata": {
    "id": "CjF2OspLKzkr"
   },
   "outputs": [],
   "source": [
    "import numpy as np\n",
    "import pandas as pd\n",
    "import matplotlib.pyplot as plt\n",
    "import pandas_datareader as data\n",
    "import pandas_datareader as web\n"
   ]
  },
  {
   "cell_type": "code",
   "execution_count": null,
   "metadata": {
    "colab": {
     "base_uri": "https://localhost:8080/",
     "height": 255
    },
    "executionInfo": {
     "elapsed": 34,
     "status": "ok",
     "timestamp": 1681370278599,
     "user": {
      "displayName": "MANI DURGA SIVA SAI GOPU",
      "userId": "11159615351266071837"
     },
     "user_tz": -330
    },
    "id": "eZSyaC9bZqfk",
    "outputId": "a3420923-c863-4384-ee37-0ac7accad3f4"
   },
   "outputs": [
    {
     "ename": "AttributeError",
     "evalue": "module 'time' has no attribute 'date_input'",
     "output_type": "error",
     "traceback": [
      "\u001b[1;31m---------------------------------------------------------------------------\u001b[0m",
      "\u001b[1;31mAttributeError\u001b[0m                            Traceback (most recent call last)",
      "Cell \u001b[1;32mIn[8], line 13\u001b[0m\n\u001b[0;32m      6\u001b[0m \u001b[38;5;66;03m#yfin.pdr_override()\u001b[39;00m\n\u001b[0;32m      8\u001b[0m ticker\u001b[38;5;241m=\u001b[39m(\u001b[38;5;124m'\u001b[39m\u001b[38;5;124mEnter Ticker Name\u001b[39m\u001b[38;5;124m'\u001b[39m,\u001b[38;5;124m'\u001b[39m\u001b[38;5;124mAAPL\u001b[39m\u001b[38;5;124m'\u001b[39m)\n\u001b[1;32m---> 13\u001b[0m start\u001b[38;5;241m=\u001b[39m\u001b[43mtime\u001b[49m\u001b[38;5;241;43m.\u001b[39;49m\u001b[43mdate_input\u001b[49m(\u001b[38;5;124m'\u001b[39m\u001b[38;5;124mStart\u001b[39m\u001b[38;5;124m'\u001b[39m, value\u001b[38;5;241m=\u001b[39mpd\u001b[38;5;241m.\u001b[39mto_datetime(\u001b[38;5;124m'\u001b[39m\u001b[38;5;124m2010-01-01\u001b[39m\u001b[38;5;124m'\u001b[39m))\n\u001b[0;32m     14\u001b[0m end\u001b[38;5;241m=\u001b[39mtime\u001b[38;5;241m.\u001b[39mdate_input(\u001b[38;5;124m'\u001b[39m\u001b[38;5;124mEnd\u001b[39m\u001b[38;5;124m'\u001b[39m, value\u001b[38;5;241m=\u001b[39mpd\u001b[38;5;241m.\u001b[39mto_datetime(\u001b[38;5;124m'\u001b[39m\u001b[38;5;124mtoday\u001b[39m\u001b[38;5;124m'\u001b[39m))\n\u001b[0;32m     17\u001b[0m df\u001b[38;5;241m=\u001b[39myf\u001b[38;5;241m.\u001b[39mdownload(ticker,start,end)\n",
      "\u001b[1;31mAttributeError\u001b[0m: module 'time' has no attribute 'date_input'"
     ]
    }
   ],
   "source": [
    "import pandas\n",
    "from pandas_datareader import data as pdr\n",
    "import yfinance as yf\n",
    "import time\n",
    "\n",
    "#yfin.pdr_override()\n",
    "\n"
   ]
  },
  {
   "cell_type": "code",
   "execution_count": 10,
   "metadata": {},
   "outputs": [
    {
     "name": "stderr",
     "output_type": "stream",
     "text": [
      "[*********************100%***********************]  1 of 1 completed"
     ]
    },
    {
     "name": "stdout",
     "output_type": "stream",
     "text": [
      "Price           Close       High        Low       Open     Volume\n",
      "Ticker           AAPL       AAPL       AAPL       AAPL       AAPL\n",
      "Date                                                             \n",
      "2020-01-02  72.796021  72.856613  71.545387  71.799873  135480400\n",
      "2020-01-03  72.088310  72.851776  71.862907  72.020447  146322800\n",
      "2020-01-06  72.662720  72.701500  70.954010  71.206077  118387200\n",
      "2020-01-07  72.320984  72.929329  72.100426  72.672417  108872000\n",
      "2020-01-08  73.484352  73.787315  72.022858  72.022858  132079200\n"
     ]
    },
    {
     "name": "stderr",
     "output_type": "stream",
     "text": [
      "\n"
     ]
    }
   ],
   "source": [
    "import yfinance as yf\n",
    "\n",
    "# Define the ticker symbol and the date range\n",
    "ticker_symbol = 'AAPL'  # Example: Apple Inc.\n",
    "start_date = '2020-01-01'\n",
    "end_date = '2025-01-29'\n",
    "\n",
    "# Download stock data\n",
    "df = yf.download(ticker_symbol, start=start_date, end=end_date)\n",
    "\n",
    "# Display the first few rows of the data\n",
    "print(data.head())\n",
    "\n",
    "# Optionally, you can save the data to a CSV file\n",
    "df.to_csv(f'{ticker_symbol}_stock_data.csv')\n"
   ]
  },
  {
   "cell_type": "code",
   "execution_count": 11,
   "metadata": {
    "colab": {
     "base_uri": "https://localhost:8080/",
     "height": 206
    },
    "executionInfo": {
     "elapsed": 12,
     "status": "ok",
     "timestamp": 1681370283327,
     "user": {
      "displayName": "MANI DURGA SIVA SAI GOPU",
      "userId": "11159615351266071837"
     },
     "user_tz": -330
    },
    "id": "vgv65dewbjoN",
    "outputId": "9ec292c5-9991-4173-cbbe-e2cca52f06e3"
   },
   "outputs": [
    {
     "data": {
      "text/html": [
       "<div>\n",
       "<style scoped>\n",
       "    .dataframe tbody tr th:only-of-type {\n",
       "        vertical-align: middle;\n",
       "    }\n",
       "\n",
       "    .dataframe tbody tr th {\n",
       "        vertical-align: top;\n",
       "    }\n",
       "\n",
       "    .dataframe thead tr th {\n",
       "        text-align: left;\n",
       "    }\n",
       "</style>\n",
       "<table border=\"1\" class=\"dataframe\">\n",
       "  <thead>\n",
       "    <tr>\n",
       "      <th>Price</th>\n",
       "      <th>Date</th>\n",
       "      <th>Close</th>\n",
       "      <th>High</th>\n",
       "      <th>Low</th>\n",
       "      <th>Open</th>\n",
       "      <th>Volume</th>\n",
       "    </tr>\n",
       "    <tr>\n",
       "      <th>Ticker</th>\n",
       "      <th></th>\n",
       "      <th>AAPL</th>\n",
       "      <th>AAPL</th>\n",
       "      <th>AAPL</th>\n",
       "      <th>AAPL</th>\n",
       "      <th>AAPL</th>\n",
       "    </tr>\n",
       "  </thead>\n",
       "  <tbody>\n",
       "    <tr>\n",
       "      <th>0</th>\n",
       "      <td>2020-01-02</td>\n",
       "      <td>72.796021</td>\n",
       "      <td>72.856613</td>\n",
       "      <td>71.545387</td>\n",
       "      <td>71.799873</td>\n",
       "      <td>135480400</td>\n",
       "    </tr>\n",
       "    <tr>\n",
       "      <th>1</th>\n",
       "      <td>2020-01-03</td>\n",
       "      <td>72.088310</td>\n",
       "      <td>72.851776</td>\n",
       "      <td>71.862907</td>\n",
       "      <td>72.020447</td>\n",
       "      <td>146322800</td>\n",
       "    </tr>\n",
       "    <tr>\n",
       "      <th>2</th>\n",
       "      <td>2020-01-06</td>\n",
       "      <td>72.662720</td>\n",
       "      <td>72.701500</td>\n",
       "      <td>70.954010</td>\n",
       "      <td>71.206077</td>\n",
       "      <td>118387200</td>\n",
       "    </tr>\n",
       "    <tr>\n",
       "      <th>3</th>\n",
       "      <td>2020-01-07</td>\n",
       "      <td>72.320984</td>\n",
       "      <td>72.929329</td>\n",
       "      <td>72.100426</td>\n",
       "      <td>72.672417</td>\n",
       "      <td>108872000</td>\n",
       "    </tr>\n",
       "    <tr>\n",
       "      <th>4</th>\n",
       "      <td>2020-01-08</td>\n",
       "      <td>73.484352</td>\n",
       "      <td>73.787315</td>\n",
       "      <td>72.022858</td>\n",
       "      <td>72.022858</td>\n",
       "      <td>132079200</td>\n",
       "    </tr>\n",
       "  </tbody>\n",
       "</table>\n",
       "</div>"
      ],
      "text/plain": [
       "Price        Date      Close       High        Low       Open     Volume\n",
       "Ticker                  AAPL       AAPL       AAPL       AAPL       AAPL\n",
       "0      2020-01-02  72.796021  72.856613  71.545387  71.799873  135480400\n",
       "1      2020-01-03  72.088310  72.851776  71.862907  72.020447  146322800\n",
       "2      2020-01-06  72.662720  72.701500  70.954010  71.206077  118387200\n",
       "3      2020-01-07  72.320984  72.929329  72.100426  72.672417  108872000\n",
       "4      2020-01-08  73.484352  73.787315  72.022858  72.022858  132079200"
      ]
     },
     "execution_count": 11,
     "metadata": {},
     "output_type": "execute_result"
    }
   ],
   "source": [
    "df= df.reset_index()\n",
    "df.head()"
   ]
  },
  {
   "cell_type": "code",
   "execution_count": 12,
   "metadata": {
    "colab": {
     "base_uri": "https://localhost:8080/",
     "height": 447
    },
    "executionInfo": {
     "elapsed": 1363,
     "status": "ok",
     "timestamp": 1681370288370,
     "user": {
      "displayName": "MANI DURGA SIVA SAI GOPU",
      "userId": "11159615351266071837"
     },
     "user_tz": -330
    },
    "id": "koqbj37aKzkt",
    "outputId": "7a313676-dfe2-43e6-ef5c-d220a7332248"
   },
   "outputs": [
    {
     "data": {
      "text/plain": [
       "[<matplotlib.lines.Line2D at 0x213aad916c0>]"
      ]
     },
     "execution_count": 12,
     "metadata": {},
     "output_type": "execute_result"
    },
    {
     "data": {
      "image/png": "[encoded data removed]",
      "text/plain": [
       "<Figure size 640x480 with 1 Axes>"
      ]
     },
     "metadata": {},
     "output_type": "display_data"
    }
   ],
   "source": [
    "plt.plot(df.Close)"
   ]
  },
  {
   "cell_type": "code",
   "execution_count": 13,
   "metadata": {
    "colab": {
     "base_uri": "https://localhost:8080/"
    },
    "executionInfo": {
     "elapsed": 12,
     "status": "ok",
     "timestamp": 1681370293272,
     "user": {
      "displayName": "MANI DURGA SIVA SAI GOPU",
      "userId": "11159615351266071837"
     },
     "user_tz": -330
    },
    "id": "QEV6tRx6Kzkt",
    "outputId": "9259971c-bc96-4e5b-d987-7f17bc7d3b36"
   },
   "outputs": [
    {
     "data": {
      "text/html": [
       "<div>\n",
       "<style scoped>\n",
       "    .dataframe tbody tr th:only-of-type {\n",
       "        vertical-align: middle;\n",
       "    }\n",
       "\n",
       "    .dataframe tbody tr th {\n",
       "        vertical-align: top;\n",
       "    }\n",
       "\n",
       "    .dataframe thead th {\n",
       "        text-align: right;\n",
       "    }\n",
       "</style>\n",
       "<table border=\"1\" class=\"dataframe\">\n",
       "  <thead>\n",
       "    <tr style=\"text-align: right;\">\n",
       "      <th>Ticker</th>\n",
       "      <th>AAPL</th>\n",
       "    </tr>\n",
       "  </thead>\n",
       "  <tbody>\n",
       "    <tr>\n",
       "      <th>0</th>\n",
       "      <td>NaN</td>\n",
       "    </tr>\n",
       "    <tr>\n",
       "      <th>1</th>\n",
       "      <td>NaN</td>\n",
       "    </tr>\n",
       "    <tr>\n",
       "      <th>2</th>\n",
       "      <td>NaN</td>\n",
       "    </tr>\n",
       "    <tr>\n",
       "      <th>3</th>\n",
       "      <td>NaN</td>\n",
       "    </tr>\n",
       "    <tr>\n",
       "      <th>4</th>\n",
       "      <td>NaN</td>\n",
       "    </tr>\n",
       "    <tr>\n",
       "      <th>...</th>\n",
       "      <td>...</td>\n",
       "    </tr>\n",
       "    <tr>\n",
       "      <th>1270</th>\n",
       "      <td>232.952343</td>\n",
       "    </tr>\n",
       "    <tr>\n",
       "      <th>1271</th>\n",
       "      <td>232.926532</td>\n",
       "    </tr>\n",
       "    <tr>\n",
       "      <th>1272</th>\n",
       "      <td>232.858958</td>\n",
       "    </tr>\n",
       "    <tr>\n",
       "      <th>1273</th>\n",
       "      <td>232.870074</td>\n",
       "    </tr>\n",
       "    <tr>\n",
       "      <th>1274</th>\n",
       "      <td>233.027422</td>\n",
       "    </tr>\n",
       "  </tbody>\n",
       "</table>\n",
       "<p>1275 rows × 1 columns</p>\n",
       "</div>"
      ],
      "text/plain": [
       "Ticker        AAPL\n",
       "0              NaN\n",
       "1              NaN\n",
       "2              NaN\n",
       "3              NaN\n",
       "4              NaN\n",
       "...            ...\n",
       "1270    232.952343\n",
       "1271    232.926532\n",
       "1272    232.858958\n",
       "1273    232.870074\n",
       "1274    233.027422\n",
       "\n",
       "[1275 rows x 1 columns]"
      ]
     },
     "execution_count": 13,
     "metadata": {},
     "output_type": "execute_result"
    }
   ],
   "source": [
    "ma100=df.Close.rolling(100).mean()\n",
    "ma100"
   ]
  },
  {
   "cell_type": "code",
   "execution_count": 14,
   "metadata": {
    "colab": {
     "base_uri": "https://localhost:8080/",
     "height": 539
    },
    "executionInfo": {
     "elapsed": 1562,
     "status": "ok",
     "timestamp": 1681370298650,
     "user": {
      "displayName": "MANI DURGA SIVA SAI GOPU",
      "userId": "11159615351266071837"
     },
     "user_tz": -330
    },
    "id": "nza1Jd7QKzkt",
    "outputId": "4213f570-cba7-4c37-b169-eebc51606699"
   },
   "outputs": [
    {
     "data": {
      "text/plain": [
       "[<matplotlib.lines.Line2D at 0x213aac82bf0>]"
      ]
     },
     "execution_count": 14,
     "metadata": {},
     "output_type": "execute_result"
    },
    {
     "data": {
      "image/png": "[encoded data removed]",
      "text/plain": [
       "<Figure size 1200x600 with 1 Axes>"
      ]
     },
     "metadata": {},
     "output_type": "display_data"
    }
   ],
   "source": [
    "plt.figure(figsize=(12,6))\n",
    "plt.plot(df.Close)\n",
    "plt.plot(ma100)"
   ]
  },
  {
   "cell_type": "code",
   "execution_count": 15,
   "metadata": {
    "colab": {
     "base_uri": "https://localhost:8080/"
    },
    "executionInfo": {
     "elapsed": 1721,
     "status": "ok",
     "timestamp": 1681370305640,
     "user": {
      "displayName": "MANI DURGA SIVA SAI GOPU",
      "userId": "11159615351266071837"
     },
     "user_tz": -330
    },
    "id": "sMhe_cEnKzkt",
    "outputId": "9f5dbe77-0ce9-4c7a-b201-31bb1ecfd9d3"
   },
   "outputs": [
    {
     "data": {
      "text/html": [
       "<div>\n",
       "<style scoped>\n",
       "    .dataframe tbody tr th:only-of-type {\n",
       "        vertical-align: middle;\n",
       "    }\n",
       "\n",
       "    .dataframe tbody tr th {\n",
       "        vertical-align: top;\n",
       "    }\n",
       "\n",
       "    .dataframe thead th {\n",
       "        text-align: right;\n",
       "    }\n",
       "</style>\n",
       "<table border=\"1\" class=\"dataframe\">\n",
       "  <thead>\n",
       "    <tr style=\"text-align: right;\">\n",
       "      <th>Ticker</th>\n",
       "      <th>AAPL</th>\n",
       "    </tr>\n",
       "  </thead>\n",
       "  <tbody>\n",
       "    <tr>\n",
       "      <th>0</th>\n",
       "      <td>NaN</td>\n",
       "    </tr>\n",
       "    <tr>\n",
       "      <th>1</th>\n",
       "      <td>NaN</td>\n",
       "    </tr>\n",
       "    <tr>\n",
       "      <th>2</th>\n",
       "      <td>NaN</td>\n",
       "    </tr>\n",
       "    <tr>\n",
       "      <th>3</th>\n",
       "      <td>NaN</td>\n",
       "    </tr>\n",
       "    <tr>\n",
       "      <th>4</th>\n",
       "      <td>NaN</td>\n",
       "    </tr>\n",
       "    <tr>\n",
       "      <th>...</th>\n",
       "      <td>...</td>\n",
       "    </tr>\n",
       "    <tr>\n",
       "      <th>1270</th>\n",
       "      <td>217.250835</td>\n",
       "    </tr>\n",
       "    <tr>\n",
       "      <th>1271</th>\n",
       "      <td>217.524292</td>\n",
       "    </tr>\n",
       "    <tr>\n",
       "      <th>1272</th>\n",
       "      <td>217.798979</td>\n",
       "    </tr>\n",
       "    <tr>\n",
       "      <th>1273</th>\n",
       "      <td>218.102987</td>\n",
       "    </tr>\n",
       "    <tr>\n",
       "      <th>1274</th>\n",
       "      <td>218.458412</td>\n",
       "    </tr>\n",
       "  </tbody>\n",
       "</table>\n",
       "<p>1275 rows × 1 columns</p>\n",
       "</div>"
      ],
      "text/plain": [
       "Ticker        AAPL\n",
       "0              NaN\n",
       "1              NaN\n",
       "2              NaN\n",
       "3              NaN\n",
       "4              NaN\n",
       "...            ...\n",
       "1270    217.250835\n",
       "1271    217.524292\n",
       "1272    217.798979\n",
       "1273    218.102987\n",
       "1274    218.458412\n",
       "\n",
       "[1275 rows x 1 columns]"
      ]
     },
     "execution_count": 15,
     "metadata": {},
     "output_type": "execute_result"
    }
   ],
   "source": [
    "ma200=df.Close.rolling(200).mean()\n",
    "ma200"
   ]
  },
  {
   "cell_type": "code",
   "execution_count": 16,
   "metadata": {
    "colab": {
     "base_uri": "https://localhost:8080/",
     "height": 539
    },
    "executionInfo": {
     "elapsed": 1347,
     "status": "ok",
     "timestamp": 1681370313163,
     "user": {
      "displayName": "MANI DURGA SIVA SAI GOPU",
      "userId": "11159615351266071837"
     },
     "user_tz": -330
    },
    "id": "sxrWPXXbKzkt",
    "outputId": "6cf18a09-6e88-4770-a669-57419e59e692"
   },
   "outputs": [
    {
     "data": {
      "text/plain": [
       "[<matplotlib.lines.Line2D at 0x213ad064250>]"
      ]
     },
     "execution_count": 16,
     "metadata": {},
     "output_type": "execute_result"
    },
    {
     "data": {
      "image/png": "[encoded data removed]",
      "text/plain": [
       "<Figure size 1200x600 with 1 Axes>"
      ]
     },
     "metadata": {},
     "output_type": "display_data"
    }
   ],
   "source": [
    "plt.figure(figsize=(12,6))\n",
    "plt.plot(df.Close)\n",
    "plt.plot(ma200,'r')\n",
    "plt.plot(ma100,'g')"
   ]
  },
  {
   "cell_type": "code",
   "execution_count": 17,
   "metadata": {
    "colab": {
     "base_uri": "https://localhost:8080/"
    },
    "executionInfo": {
     "elapsed": 1060,
     "status": "ok",
     "timestamp": 1681370325245,
     "user": {
      "displayName": "MANI DURGA SIVA SAI GOPU",
      "userId": "11159615351266071837"
     },
     "user_tz": -330
    },
    "id": "74Z4hN9bKzkt",
    "outputId": "14967a29-9bfe-4f30-8928-15d3d41d39a4"
   },
   "outputs": [
    {
     "data": {
      "text/plain": [
       "(1275, 6)"
      ]
     },
     "execution_count": 17,
     "metadata": {},
     "output_type": "execute_result"
    }
   ],
   "source": [
    "df.shape"
   ]
  },
  {
   "cell_type": "code",
   "execution_count": 18,
   "metadata": {
    "colab": {
     "base_uri": "https://localhost:8080/"
    },
    "executionInfo": {
     "elapsed": 456,
     "status": "ok",
     "timestamp": 1681370581757,
     "user": {
      "displayName": "MANI DURGA SIVA SAI GOPU",
      "userId": "11159615351266071837"
     },
     "user_tz": -330
    },
    "id": "kEmivhwxKzku",
    "outputId": "b27af821-da33-49ef-d531-a5af95fea857"
   },
   "outputs": [
    {
     "name": "stdout",
     "output_type": "stream",
     "text": [
      "(892, 1)\n",
      "(383, 1)\n"
     ]
    }
   ],
   "source": [
    "#splitting data into training and testing\n",
    "\n",
    "data_training=pd.DataFrame(df['Close'][0:int(len(df)*.70)])\n",
    "data_testing=pd.DataFrame(df['Close'][int(len(df)*.70):int(len(df))])\n",
    "\n",
    "print(data_training.shape)\n",
    "print(data_testing.shape)"
   ]
  },
  {
   "cell_type": "code",
   "execution_count": 19,
   "metadata": {
    "id": "wwDmBsfMKzku"
   },
   "outputs": [],
   "source": [
    "from sklearn.preprocessing import MinMaxScaler\n",
    "scaler=MinMaxScaler(feature_range=(0,1))"
   ]
  },
  {
   "cell_type": "code",
   "execution_count": 20,
   "metadata": {
    "colab": {
     "base_uri": "https://localhost:8080/"
    },
    "executionInfo": {
     "elapsed": 610,
     "status": "ok",
     "timestamp": 1681370593785,
     "user": {
      "displayName": "MANI DURGA SIVA SAI GOPU",
      "userId": "11159615351266071837"
     },
     "user_tz": -330
    },
    "id": "UmQ6qXBJKzku",
    "outputId": "41becbc6-9c1b-4c97-be22-46afb2a02d4b"
   },
   "outputs": [
    {
     "data": {
      "text/plain": [
       "array([[0.13144028],\n",
       "       [0.12635331],\n",
       "       [0.13048213],\n",
       "       [0.12802575],\n",
       "       [0.13638796],\n",
       "       [0.14760736],\n",
       "       [0.14882688],\n",
       "       [0.16037718],\n",
       "       [0.15292076],\n",
       "       [0.15058641],\n",
       "       [0.1573808 ],\n",
       "       [0.16346081],\n",
       "       [0.15969794],\n",
       "       [0.1616664 ],\n",
       "       [0.16433177],\n",
       "       [0.16272903],\n",
       "       [0.14642277],\n",
       "       [0.16164896],\n",
       "       [0.17323431],\n",
       "       [0.17241539],\n",
       "       [0.14739826],\n",
       "       [0.14591753],\n",
       "       [0.16366991],\n",
       "       [0.16819949],\n",
       "       [0.17474985],\n",
       "       [0.1670489 ],\n",
       "       [0.16970325],\n",
       "       [0.16631531],\n",
       "       [0.17956964],\n",
       "       [0.17550077],\n",
       "       [0.17564045],\n",
       "       [0.16525017],\n",
       "       [0.17331794],\n",
       "       [0.1675203 ],\n",
       "       [0.15485989],\n",
       "       [0.12889271],\n",
       "       [0.11125539],\n",
       "       [0.11923575],\n",
       "       [0.08582953],\n",
       "       [0.08554996],\n",
       "       [0.12999274],\n",
       "       [0.11342067],\n",
       "       [0.13685579],\n",
       "       [0.11970726],\n",
       "       [0.11291439],\n",
       "       [0.0729944 ],\n",
       "       [0.10647047],\n",
       "       [0.08916482],\n",
       "       [0.04166609],\n",
       "       [0.09360041],\n",
       "       [0.03115351],\n",
       "       [0.04975135],\n",
       "       [0.0389419 ],\n",
       "       [0.03564152],\n",
       "       [0.00850435],\n",
       "       [0.        ],\n",
       "       [0.0393087 ],\n",
       "       [0.03693374],\n",
       "       [0.0594957 ],\n",
       "       [0.04081045],\n",
       "       [0.05315667],\n",
       "       [0.05224852],\n",
       "       [0.02888343],\n",
       "       [0.03590338],\n",
       "       [0.02975656],\n",
       "       [0.06653315],\n",
       "       [0.06122444],\n",
       "       [0.07281984],\n",
       "       [0.07617268],\n",
       "       [0.08535808],\n",
       "       [0.1094566 ],\n",
       "       [0.10488133],\n",
       "       [0.10882781],\n",
       "       [0.10203494],\n",
       "       [0.09178418],\n",
       "       [0.07683607],\n",
       "       [0.09033488],\n",
       "       [0.08846638],\n",
       "       [0.10233174],\n",
       "       [0.10268112],\n",
       "       [0.09466566],\n",
       "       [0.11064409],\n",
       "       [0.12124386],\n",
       "       [0.11298415],\n",
       "       [0.12012639],\n",
       "       [0.12780991],\n",
       "       [0.13317107],\n",
       "       [0.13860189],\n",
       "       [0.15122671],\n",
       "       [0.15977164],\n",
       "       [0.153468  ],\n",
       "       [0.14688413],\n",
       "       [0.1501937 ],\n",
       "       [0.14698926],\n",
       "       [0.15968406],\n",
       "       [0.15649734],\n",
       "       [0.16716078],\n",
       "       [0.16299346],\n",
       "       [0.16656544],\n",
       "       [0.16278337],\n",
       "       [0.16519971],\n",
       "       [0.16544496],\n",
       "       [0.16490204],\n",
       "       [0.17174849],\n",
       "       [0.17435753],\n",
       "       [0.17747423],\n",
       "       [0.17257141],\n",
       "       [0.1886457 ],\n",
       "       [0.1920775 ],\n",
       "       [0.21051575],\n",
       "       [0.22601209],\n",
       "       [0.19634999],\n",
       "       [0.20142802],\n",
       "       [0.20876467],\n",
       "       [0.2246813 ],\n",
       "       [0.22382333],\n",
       "       [0.22406852],\n",
       "       [0.22054897],\n",
       "       [0.23657062],\n",
       "       [0.24998327],\n",
       "       [0.23865441],\n",
       "       [0.24702407],\n",
       "       [0.22739541],\n",
       "       [0.24166614],\n",
       "       [0.24695415],\n",
       "       [0.24574587],\n",
       "       [0.24574587],\n",
       "       [0.26280064],\n",
       "       [0.26076954],\n",
       "       [0.27596826],\n",
       "       [0.27883988],\n",
       "       [0.28001295],\n",
       "       [0.27691381],\n",
       "       [0.28798004],\n",
       "       [0.29265527],\n",
       "       [0.28423302],\n",
       "       [0.28286713],\n",
       "       [0.29708538],\n",
       "       [0.28757741],\n",
       "       [0.28948604],\n",
       "       [0.25847572],\n",
       "       [0.25686481],\n",
       "       [0.27223846],\n",
       "       [0.26132989],\n",
       "       [0.27384965],\n",
       "       [0.2819042 ],\n",
       "       [0.35243453],\n",
       "       [0.37118789],\n",
       "       [0.3762833 ],\n",
       "       [0.3790674 ],\n",
       "       [0.40596267],\n",
       "       [0.38782488],\n",
       "       [0.39915654],\n",
       "       [0.37563329],\n",
       "       [0.40113877],\n",
       "       [0.4151721 ],\n",
       "       [0.41445298],\n",
       "       [0.41234791],\n",
       "       [0.41904881],\n",
       "       [0.42006625],\n",
       "       [0.43808147],\n",
       "       [0.48084786],\n",
       "       [0.49128508],\n",
       "       [0.48404051],\n",
       "       [0.49595116],\n",
       "       [0.48533861],\n",
       "       [0.48391761],\n",
       "       [0.51361563],\n",
       "       [0.54968128],\n",
       "       [0.53017486],\n",
       "       [0.45635971],\n",
       "       [0.45692115],\n",
       "       [0.39980568],\n",
       "       [0.43138052],\n",
       "       [0.40450679],\n",
       "       [0.39405202],\n",
       "       [0.41762786],\n",
       "       [0.41889104],\n",
       "       [0.39496411],\n",
       "       [0.38240438],\n",
       "       [0.35784598],\n",
       "       [0.38058014],\n",
       "       [0.39271882],\n",
       "       [0.35981083],\n",
       "       [0.36752916],\n",
       "       [0.39601665],\n",
       "       [0.41482118],\n",
       "       [0.40871688],\n",
       "       [0.42078541],\n",
       "       [0.42766169],\n",
       "       [0.40120891],\n",
       "       [0.42562687],\n",
       "       [0.40219131],\n",
       "       [0.41566346],\n",
       "       [0.41489143],\n",
       "       [0.4289247 ],\n",
       "       [0.4810585 ],\n",
       "       [0.45790333],\n",
       "       [0.45853503],\n",
       "       [0.45516695],\n",
       "       [0.44330878],\n",
       "       [0.42197828],\n",
       "       [0.43271378],\n",
       "       [0.42822303],\n",
       "       [0.42036447],\n",
       "       [0.41538273],\n",
       "       [0.41545282],\n",
       "       [0.42632859],\n",
       "       [0.38843865],\n",
       "       [0.4173472 ],\n",
       "       [0.3720198 ],\n",
       "       [0.37138816],\n",
       "       [0.38310616],\n",
       "       [0.41475098],\n",
       "       [0.44337903],\n",
       "       [0.44243025],\n",
       "       [0.42577197],\n",
       "       [0.42331193],\n",
       "       [0.44805305],\n",
       "       [0.44608514],\n",
       "       [0.44643644],\n",
       "       [0.45374638],\n",
       "       [0.44735028],\n",
       "       [0.43779126],\n",
       "       [0.44207878],\n",
       "       [0.43294142],\n",
       "       [0.40841109],\n",
       "       [0.4176889 ],\n",
       "       [0.42373364],\n",
       "       [0.42766975],\n",
       "       [0.44496049],\n",
       "       [0.47075607],\n",
       "       [0.47328625],\n",
       "       [0.47230238],\n",
       "       [0.46745254],\n",
       "       [0.4779956 ],\n",
       "       [0.48242367],\n",
       "       [0.46414906],\n",
       "       [0.47441101],\n",
       "       [0.46857707],\n",
       "       [0.46414906],\n",
       "       [0.50702441],\n",
       "       [0.50653233],\n",
       "       [0.51278793],\n",
       "       [0.49844937],\n",
       "       [0.5094844 ],\n",
       "       [0.53513937],\n",
       "       [0.52867302],\n",
       "       [0.535772  ],\n",
       "       [0.56894761],\n",
       "       [0.5561553 ],\n",
       "       [0.54807229],\n",
       "       [0.54083259],\n",
       "       [0.51777838],\n",
       "       [0.52902433],\n",
       "       [0.49802766],\n",
       "       [0.5283917 ],\n",
       "       [0.53633444],\n",
       "       [0.51475607],\n",
       "       [0.51349081],\n",
       "       [0.52818095],\n",
       "       [0.51426388],\n",
       "       [0.50182293],\n",
       "       [0.506673  ],\n",
       "       [0.53619372],\n",
       "       [0.57021254],\n",
       "       [0.58567608],\n",
       "       [0.61273686],\n",
       "       [0.6144234 ],\n",
       "       [0.60669212],\n",
       "       [0.57175912],\n",
       "       [0.53570181],\n",
       "       [0.5510243 ],\n",
       "       [0.55699885],\n",
       "       [0.54961865],\n",
       "       [0.57386781],\n",
       "       [0.57087588],\n",
       "       [0.57193198],\n",
       "       [0.56559648],\n",
       "       [0.56123224],\n",
       "       [0.55940213],\n",
       "       [0.56109163],\n",
       "       [0.5457461 ],\n",
       "       [0.52920354],\n",
       "       [0.5212494 ],\n",
       "       [0.52237558],\n",
       "       [0.49513372],\n",
       "       [0.49414825],\n",
       "       [0.49055824],\n",
       "       [0.45986702],\n",
       "       [0.46176771],\n",
       "       [0.50773392],\n",
       "       [0.48893921],\n",
       "       [0.46739896],\n",
       "       [0.45381334],\n",
       "       [0.462894  ],\n",
       "       [0.42727529],\n",
       "       [0.46057083],\n",
       "       [0.45275741],\n",
       "       [0.46669509],\n",
       "       [0.46014868],\n",
       "       [0.4809849 ],\n",
       "       [0.4921068 ],\n",
       "       [0.48640497],\n",
       "       [0.45662891],\n",
       "       [0.45282788],\n",
       "       [0.47676138],\n",
       "       [0.47077789],\n",
       "       [0.4535318 ],\n",
       "       [0.45705129],\n",
       "       [0.46141564],\n",
       "       [0.46268281],\n",
       "       [0.45219431],\n",
       "       [0.46803257],\n",
       "       [0.47401595],\n",
       "       [0.4944298 ],\n",
       "       [0.49661203],\n",
       "       [0.50850826],\n",
       "       [0.52582471],\n",
       "       [0.54440835],\n",
       "       [0.53201933],\n",
       "       [0.55447447],\n",
       "       [0.53758039],\n",
       "       [0.55496748],\n",
       "       [0.55257406],\n",
       "       [0.55736068],\n",
       "       [0.54518268],\n",
       "       [0.54792806],\n",
       "       [0.53694677],\n",
       "       [0.55370036],\n",
       "       [0.55651604],\n",
       "       [0.55419315],\n",
       "       [0.54849126],\n",
       "       [0.54778723],\n",
       "       [0.533568  ],\n",
       "       [0.5411704 ],\n",
       "       [0.50815641],\n",
       "       [0.50991621],\n",
       "       [0.52146069],\n",
       "       [0.52632573],\n",
       "       [0.50263379],\n",
       "       [0.49600561],\n",
       "       [0.47386487],\n",
       "       [0.48937749],\n",
       "       [0.50686444],\n",
       "       [0.49854408],\n",
       "       [0.48853137],\n",
       "       [0.48740316],\n",
       "       [0.50587728],\n",
       "       [0.49262103],\n",
       "       [0.50439655],\n",
       "       [0.50298625],\n",
       "       [0.50263379],\n",
       "       [0.49156334],\n",
       "       [0.48683913],\n",
       "       [0.48451212],\n",
       "       [0.49001215],\n",
       "       [0.47929431],\n",
       "       [0.49586457],\n",
       "       [0.49593509],\n",
       "       [0.50185814],\n",
       "       [0.50460807],\n",
       "       [0.49741592],\n",
       "       [0.50615937],\n",
       "       [0.5282297 ],\n",
       "       [0.52230665],\n",
       "       [0.5259027 ],\n",
       "       [0.53746676],\n",
       "       [0.52808876],\n",
       "       [0.54106281],\n",
       "       [0.55290891],\n",
       "       [0.5509348 ],\n",
       "       [0.54888984],\n",
       "       [0.54677435],\n",
       "       [0.55854982],\n",
       "       [0.56947923],\n",
       "       [0.57392145],\n",
       "       [0.57610713],\n",
       "       [0.59507525],\n",
       "       [0.6096007 ],\n",
       "       [0.62758127],\n",
       "       [0.61820316],\n",
       "       [0.63138888],\n",
       "       [0.62708782],\n",
       "       [0.63512609],\n",
       "       [0.6598756 ],\n",
       "       [0.6551514 ],\n",
       "       [0.64041437],\n",
       "       [0.61263267],\n",
       "       [0.63872213],\n",
       "       [0.63343374],\n",
       "       [0.64330551],\n",
       "       [0.65571559],\n",
       "       [0.65874756],\n",
       "       [0.64309394],\n",
       "       [0.63047208],\n",
       "       [0.63512609],\n",
       "       [0.63667728],\n",
       "       [0.63427991],\n",
       "       [0.64725407],\n",
       "       [0.64436315],\n",
       "       [0.6451388 ],\n",
       "       [0.64019556],\n",
       "       [0.6398424 ],\n",
       "       [0.63638213],\n",
       "       [0.63821827],\n",
       "       [0.65961545],\n",
       "       [0.66109831],\n",
       "       [0.67536316],\n",
       "       [0.66879558],\n",
       "       [0.64174917],\n",
       "       [0.64415037],\n",
       "       [0.65467232],\n",
       "       [0.66540606],\n",
       "       [0.66477047],\n",
       "       [0.65587265],\n",
       "       [0.65008192],\n",
       "       [0.65756752],\n",
       "       [0.68948654],\n",
       "       [0.68037681],\n",
       "       [0.685179  ],\n",
       "       [0.69322922],\n",
       "       [0.69781951],\n",
       "       [0.71469736],\n",
       "       [0.70353971],\n",
       "       [0.69619527],\n",
       "       [0.66018029],\n",
       "       [0.66427615],\n",
       "       [0.65417778],\n",
       "       [0.66060398],\n",
       "       [0.65890911],\n",
       "       [0.63963061],\n",
       "       [0.61759773],\n",
       "       [0.62105799],\n",
       "       [0.63814786],\n",
       "       [0.64506816],\n",
       "       [0.64570386],\n",
       "       [0.6347579 ],\n",
       "       [0.61032447],\n",
       "       [0.6168212 ],\n",
       "       [0.60742884],\n",
       "       [0.61555002],\n",
       "       [0.59076299],\n",
       "       [0.6046748 ],\n",
       "       [0.61095962],\n",
       "       [0.62006957],\n",
       "       [0.61731542],\n",
       "       [0.61667972],\n",
       "       [0.60749947],\n",
       "       [0.60326257],\n",
       "       [0.62338835],\n",
       "       [0.6310151 ],\n",
       "       [0.64309076],\n",
       "       [0.65869721],\n",
       "       [0.66222822],\n",
       "       [0.66378182],\n",
       "       [0.65820289],\n",
       "       [0.65784994],\n",
       "       [0.66265213],\n",
       "       [0.65933291],\n",
       "       [0.6856028 ],\n",
       "       [0.66604165],\n",
       "       [0.66010988],\n",
       "       [0.66759504],\n",
       "       [0.67797638],\n",
       "       [0.67423325],\n",
       "       [0.67805228],\n",
       "       [0.67211195],\n",
       "       [0.67472823],\n",
       "       [0.65428998],\n",
       "       [0.65393626],\n",
       "       [0.66892917],\n",
       "       [0.66899991],\n",
       "       [0.67607202],\n",
       "       [0.69368132],\n",
       "       [0.72465721],\n",
       "       [0.74361019],\n",
       "       [0.74693434],\n",
       "       [0.74969233],\n",
       "       [0.75344061],\n",
       "       [0.71716097],\n",
       "       [0.74141814],\n",
       "       [0.77720291],\n",
       "       [0.77345441],\n",
       "       [0.76631178],\n",
       "       [0.75273329],\n",
       "       [0.77734417],\n",
       "       [0.81878651],\n",
       "       [0.84636772],\n",
       "       [0.84269019],\n",
       "       [0.87727254],\n",
       "       [0.85103534],\n",
       "       [0.84106354],\n",
       "       [0.87621194],\n",
       "       [0.82642445],\n",
       "       [0.81850365],\n",
       "       [0.80867356],\n",
       "       [0.83158705],\n",
       "       [0.85032824],\n",
       "       [0.85485414],\n",
       "       [0.88349617],\n",
       "       [0.87614098],\n",
       "       [0.87677745],\n",
       "       [0.86843274],\n",
       "       [0.86397746],\n",
       "       [0.89537737],\n",
       "       [0.87904046],\n",
       "       [0.84523595],\n",
       "       [0.82458557],\n",
       "       [0.82578799],\n",
       "       [0.82592947],\n",
       "       [0.84636772],\n",
       "       [0.84955028],\n",
       "       [0.82592947],\n",
       "       [0.83215288],\n",
       "       [0.80902716],\n",
       "       [0.78377981],\n",
       "       [0.77161597],\n",
       "       [0.75676444],\n",
       "       [0.75117749],\n",
       "       [0.73816484],\n",
       "       [0.73752826],\n",
       "       [0.73420433],\n",
       "       [0.81277533],\n",
       "       [0.84424609],\n",
       "       [0.84304368],\n",
       "       [0.85174244],\n",
       "       [0.83095036],\n",
       "       [0.82889684],\n",
       "       [0.82372777],\n",
       "       [0.84617502],\n",
       "       [0.8564424 ],\n",
       "       [0.82698524],\n",
       "       [0.8023431 ],\n",
       "       [0.80404258],\n",
       "       [0.83172941],\n",
       "       [0.83003015],\n",
       "       [0.80404258],\n",
       "       [0.79285422],\n",
       "       [0.77175285],\n",
       "       [0.74165834],\n",
       "       [0.76056459],\n",
       "       [0.77550584],\n",
       "       [0.77741755],\n",
       "       [0.76382173],\n",
       "       [0.78761419],\n",
       "       [0.78527759],\n",
       "       [0.7636095 ],\n",
       "       [0.73620575],\n",
       "       [0.72303484],\n",
       "       [0.76205162],\n",
       "       [0.73068243],\n",
       "       [0.70384506],\n",
       "       [0.67474183],\n",
       "       [0.70639411],\n",
       "       [0.73825884],\n",
       "       [0.74555249],\n",
       "       [0.76934517],\n",
       "       [0.77925884],\n",
       "       [0.80361757],\n",
       "       [0.81346017],\n",
       "       [0.84079329],\n",
       "       [0.84539597],\n",
       "       [0.85162738],\n",
       "       [0.87541984],\n",
       "       [0.86699331],\n",
       "       [0.84461703],\n",
       "       [0.84249276],\n",
       "       [0.8717377 ],\n",
       "       [0.84780364],\n",
       "       [0.82493161],\n",
       "       [0.82712684],\n",
       "       [0.81261071],\n",
       "       [0.78187863],\n",
       "       [0.7954036 ],\n",
       "       [0.81480571],\n",
       "       [0.77862139],\n",
       "       [0.77706361],\n",
       "       [0.79356242],\n",
       "       [0.79235858],\n",
       "       [0.78662291],\n",
       "       [0.75383765],\n",
       "       [0.76155598],\n",
       "       [0.71850301],\n",
       "       [0.71687438],\n",
       "       [0.76693761],\n",
       "       [0.72452175],\n",
       "       [0.72671709],\n",
       "       [0.73748012],\n",
       "       [0.78379056],\n",
       "       [0.71829034],\n",
       "       [0.72353804],\n",
       "       [0.68652049],\n",
       "       [0.70389463],\n",
       "       [0.64709185],\n",
       "       [0.61915144],\n",
       "       [0.6514177 ],\n",
       "       [0.64028407],\n",
       "       [0.66652259],\n",
       "       [0.60681233],\n",
       "       [0.58220463],\n",
       "       [0.58390652],\n",
       "       [0.62305152],\n",
       "       [0.60355004],\n",
       "       [0.60468467],\n",
       "       [0.62780304],\n",
       "       [0.66935911],\n",
       "       [0.66368575],\n",
       "       [0.66276411],\n",
       "       [0.68049274],\n",
       "       [0.63914933],\n",
       "       [0.64453885],\n",
       "       [0.66276411],\n",
       "       [0.65744556],\n",
       "       [0.6197187 ],\n",
       "       [0.58064466],\n",
       "       [0.54341411],\n",
       "       [0.54965485],\n",
       "       [0.56858874],\n",
       "       [0.53050763],\n",
       "       [0.54114485],\n",
       "       [0.57170922],\n",
       "       [0.56802159],\n",
       "       [0.58872878],\n",
       "       [0.61276889],\n",
       "       [0.61276889],\n",
       "       [0.58284285],\n",
       "       [0.59553678],\n",
       "       [0.57773696],\n",
       "       [0.59340922],\n",
       "       [0.61205971],\n",
       "       [0.62170411],\n",
       "       [0.64602819],\n",
       "       [0.6509213 ],\n",
       "       [0.63553256],\n",
       "       [0.64255333],\n",
       "       [0.63992959],\n",
       "       [0.66106211],\n",
       "       [0.67311749],\n",
       "       [0.65113418],\n",
       "       [0.67900363],\n",
       "       [0.69347019],\n",
       "       [0.70985174],\n",
       "       [0.70091619],\n",
       "       [0.69283186],\n",
       "       [0.68325863],\n",
       "       [0.72006319],\n",
       "       [0.72403456],\n",
       "       [0.76062667],\n",
       "       [0.75353515],\n",
       "       [0.74289771],\n",
       "       [0.78629782],\n",
       "       [0.78402845],\n",
       "       [0.78239544],\n",
       "       [0.77898651],\n",
       "       [0.77934187],\n",
       "       [0.81001965],\n",
       "       [0.80469363],\n",
       "       [0.83032936],\n",
       "       [0.83806974],\n",
       "       [0.83693346],\n",
       "       [0.84772764],\n",
       "       [0.84488695],\n",
       "       [0.82621047],\n",
       "       [0.79816038],\n",
       "       [0.7957458 ],\n",
       "       [0.7978762 ],\n",
       "       [0.81562962],\n",
       "       [0.77011007],\n",
       "       [0.7542031 ],\n",
       "       [0.73666268],\n",
       "       [0.72466149],\n",
       "       [0.72991665],\n",
       "       [0.71464834],\n",
       "       [0.70555858],\n",
       "       [0.71571387],\n",
       "       [0.70506173],\n",
       "       [0.72572647],\n",
       "       [0.76876058],\n",
       "       [0.70065888],\n",
       "       [0.7110977 ],\n",
       "       [0.69021985],\n",
       "       [0.67836047],\n",
       "       [0.70520365],\n",
       "       [0.72238905],\n",
       "       [0.69980668],\n",
       "       [0.69284743],\n",
       "       [0.67644306],\n",
       "       [0.67885776],\n",
       "       [0.68588786],\n",
       "       [0.67225343],\n",
       "       [0.61998731],\n",
       "       [0.5895936 ],\n",
       "       [0.61977453],\n",
       "       [0.64569443],\n",
       "       [0.64782473],\n",
       "       [0.64093634],\n",
       "       [0.60301524],\n",
       "       [0.60535875],\n",
       "       [0.59513283],\n",
       "       [0.59058784],\n",
       "       [0.62360913],\n",
       "       [0.59087191],\n",
       "       [0.61949035],\n",
       "       [0.62900633],\n",
       "       [0.62978724],\n",
       "       [0.6264496 ],\n",
       "       [0.65400295],\n",
       "       [0.66948382],\n",
       "       [0.69000674],\n",
       "       [0.66877387],\n",
       "       [0.63646264],\n",
       "       [0.71415116],\n",
       "       [0.69710802],\n",
       "       [0.67800566],\n",
       "       [0.63809598],\n",
       "       [0.59442287],\n",
       "       [0.59250207],\n",
       "       [0.59634325],\n",
       "       [0.60046882],\n",
       "       [0.56753495],\n",
       "       [0.65289256],\n",
       "       [0.6730225 ],\n",
       "       [0.66292194],\n",
       "       [0.67544115],\n",
       "       [0.6665499 ],\n",
       "       [0.68027821],\n",
       "       [0.68433261],\n",
       "       [0.66100146],\n",
       "       [0.67643692],\n",
       "       [0.68276782],\n",
       "       [0.66171273],\n",
       "       [0.63404279],\n",
       "       [0.61234772],\n",
       "       [0.66114371],\n",
       "       [0.66313538],\n",
       "       [0.65957892],\n",
       "       [0.65118551],\n",
       "       [0.62472446],\n",
       "       [0.61071164],\n",
       "       [0.62287516],\n",
       "       [0.61938978],\n",
       "       [0.63596327],\n",
       "       [0.64293425],\n",
       "       [0.62685859],\n",
       "       [0.57912945],\n",
       "       [0.56497438],\n",
       "       [0.54975224],\n",
       "       [0.5492543 ],\n",
       "       [0.57166096],\n",
       "       [0.54875647],\n",
       "       [0.54612439],\n",
       "       [0.53310757],\n",
       "       [0.50472614],\n",
       "       [0.53012013],\n",
       "       [0.5323963 ],\n",
       "       [0.49782634],\n",
       "       [0.50700236],\n",
       "       [0.49747071],\n",
       "       [0.53019109],\n",
       "       [0.53396098],\n",
       "       [0.53808667],\n",
       "       [0.55771889],\n",
       "       [0.55714987],\n",
       "       [0.5667526 ],\n",
       "       [0.57514612],\n",
       "       [0.56995359],\n",
       "       [0.57038035],\n",
       "       [0.58887432],\n",
       "       [0.61192085],\n",
       "       [0.62202163],\n",
       "       [0.61725564],\n",
       "       [0.63219327],\n",
       "       [0.64620619],\n",
       "       [0.62536476],\n",
       "       [0.63454062],\n",
       "       [0.64264952],\n",
       "       [0.68098948],\n",
       "       [0.7071657 ],\n",
       "       [0.68746219],\n",
       "       [0.70823266],\n",
       "       [0.68881387],\n",
       "       [0.68134506],\n",
       "       [0.68398087],\n",
       "       [0.70421314],\n",
       "       [0.69958238],\n",
       "       [0.71475648],\n",
       "       [0.70321583],\n",
       "       [0.69495195],\n",
       "       [0.66595731],\n",
       "       [0.66902064],\n",
       "       [0.6725114 ],\n",
       "       [0.65334784],\n",
       "       [0.66196784],\n",
       "       [0.6583345 ],\n",
       "       [0.64337406],\n",
       "       [0.6476488 ],\n",
       "       [0.68412334],\n",
       "       [0.70407056],\n",
       "       [0.68818421],\n",
       "       [0.69723163],\n",
       "       [0.68098882],\n",
       "       [0.66609967],\n",
       "       [0.68013398],\n",
       "       [0.69523679],\n",
       "       [0.69808647],\n",
       "       [0.71846111],\n",
       "       [0.71240551],\n",
       "       [0.72950305],\n",
       "       [0.7428964 ],\n",
       "       [0.7325666 ],\n",
       "       [0.74040295],\n",
       "       [0.74980651],\n",
       "       [0.73577219],\n",
       "       [0.73128424],\n",
       "       [0.75351113],\n",
       "       [0.76483813],\n",
       "       [0.78293298],\n",
       "       [0.79198051],\n",
       "       [0.78813363],\n",
       "       [0.77481168],\n",
       "       [0.78122341],\n",
       "       [0.76248738],\n",
       "       [0.7537249 ],\n",
       "       [0.74873801],\n",
       "       [0.78763492],\n",
       "       [0.7851417 ],\n",
       "       [0.78528384],\n",
       "       [0.79411783],\n",
       "       [0.8023816 ],\n",
       "       [0.79539998],\n",
       "       [0.78378793],\n",
       "       [0.78599632],\n",
       "       [0.77488287],\n",
       "       [0.77481168],\n",
       "       [0.80793849],\n",
       "       [0.81698569],\n",
       "       [0.81634451],\n",
       "       [0.80886418],\n",
       "       [0.80109923],\n",
       "       [0.78927342],\n",
       "       [0.8446983 ],\n",
       "       [0.84419948],\n",
       "       [0.83187495],\n",
       "       [0.8446269 ],\n",
       "       [0.84598034],\n",
       "       [0.83927445],\n",
       "       [0.83570769],\n",
       "       [0.83570769],\n",
       "       [0.84013072],\n",
       "       [0.85696634],\n",
       "       [0.85775142],\n",
       "       [0.85090262],\n",
       "       [0.83206941],\n",
       "       [0.834067  ],\n",
       "       [0.84227077],\n",
       "       [0.85967728],\n",
       "       [0.87301765],\n",
       "       [0.87266097],\n",
       "       [0.892921  ],\n",
       "       [0.89905601],\n",
       "       [0.88928273],\n",
       "       [0.8866433 ],\n",
       "       [0.87672733],\n",
       "       [0.89634529],\n",
       "       [0.89912741],\n",
       "       [0.91931614],\n",
       "       [0.91589207],\n",
       "       [0.92045768],\n",
       "       [0.93515336],\n",
       "       [0.92737733],\n",
       "       [0.92801939],\n",
       "       [0.92052908],\n",
       "       [0.94221592],\n",
       "       [0.93993295],\n",
       "       [0.92987439],\n",
       "       [0.94977774],\n",
       "       [0.95826712],\n",
       "       [0.96069245],\n",
       "       [0.9919387 ],\n",
       "       [0.98116657],\n",
       "       [0.97310538],\n",
       "       [0.97652956],\n",
       "       [0.96846837],\n",
       "       [0.9537014 ],\n",
       "       [0.94992043],\n",
       "       [0.96197669],\n",
       "       [0.96746952],\n",
       "       [0.96853966],\n",
       "       [0.9920815 ],\n",
       "       [0.9902265 ],\n",
       "       [1.        ]])"
      ]
     },
     "execution_count": 20,
     "metadata": {},
     "output_type": "execute_result"
    }
   ],
   "source": [
    "data_training_array=scaler.fit_transform(data_training)\n",
    "data_training_array"
   ]
  },
  {
   "cell_type": "code",
   "execution_count": 21,
   "metadata": {
    "colab": {
     "base_uri": "https://localhost:8080/"
    },
    "executionInfo": {
     "elapsed": 11,
     "status": "ok",
     "timestamp": 1681370601463,
     "user": {
      "displayName": "MANI DURGA SIVA SAI GOPU",
      "userId": "11159615351266071837"
     },
     "user_tz": -330
    },
    "id": "LPh6FhiGfMKa",
    "outputId": "373b4805-5db8-4f91-d67b-430d41801399"
   },
   "outputs": [
    {
     "data": {
      "text/plain": [
       "(892, 1)"
      ]
     },
     "execution_count": 21,
     "metadata": {},
     "output_type": "execute_result"
    }
   ],
   "source": [
    "data_training.shape"
   ]
  },
  {
   "cell_type": "code",
   "execution_count": 22,
   "metadata": {
    "id": "7IEYRQkzKzku"
   },
   "outputs": [],
   "source": [
    "x_train=[]\n",
    "y_train=[]\n",
    "\n",
    "for i in range(100,data_training_array.shape[0]):\n",
    "    x_train.append(data_training_array[i-100:i])\n",
    "    y_train.append(data_training_array[i,0])\n",
    "\n",
    "x_train,y_train=np.array(x_train),np.array(y_train)"
   ]
  },
  {
   "cell_type": "code",
   "execution_count": 23,
   "metadata": {
    "colab": {
     "base_uri": "https://localhost:8080/"
    },
    "executionInfo": {
     "elapsed": 500,
     "status": "ok",
     "timestamp": 1681370781652,
     "user": {
      "displayName": "MANI DURGA SIVA SAI GOPU",
      "userId": "11159615351266071837"
     },
     "user_tz": -330
    },
    "id": "BCPv6QYHeICr",
    "outputId": "84ffef2a-9dd1-4ded-cb37-41bbe2201eff"
   },
   "outputs": [
    {
     "data": {
      "text/plain": [
       "(792, 100, 1)"
      ]
     },
     "execution_count": 23,
     "metadata": {},
     "output_type": "execute_result"
    }
   ],
   "source": [
    "x_train.shape"
   ]
  },
  {
   "cell_type": "code",
   "execution_count": 24,
   "metadata": {
    "id": "JUWULsy_Kzku"
   },
   "outputs": [],
   "source": [
    "from keras.layers import Dense,Dropout,LSTM\n",
    "from keras.models import Sequential"
   ]
  },
  {
   "cell_type": "code",
   "execution_count": 25,
   "metadata": {
    "id": "MLlZVZUnKzku"
   },
   "outputs": [
    {
     "name": "stderr",
     "output_type": "stream",
     "text": [
      "c:\\Users\\thiru\\AppData\\Local\\Programs\\Python\\Python310\\lib\\site-packages\\keras\\src\\layers\\rnn\\rnn.py:200: UserWarning: Do not pass an `input_shape`/`input_dim` argument to a layer. When using Sequential models, prefer using an `Input(shape)` object as the first layer in the model instead.\n",
      "  super().__init__(**kwargs)\n"
     ]
    }
   ],
   "source": [
    "model=Sequential()\n",
    "model.add(LSTM(units=50, activation='relu',return_sequences=True, input_shape=(x_train.shape[1],1)))\n",
    "model.add(Dropout(0.2))\n",
    "\n",
    "\n",
    "\n",
    "model.add(LSTM(units=60, activation='relu',return_sequences=True))\n",
    "model.add(Dropout(0.3))\n",
    "\n",
    "\n",
    "\n",
    "model.add(LSTM(units=80, activation='relu',return_sequences=True))\n",
    "model.add(Dropout(0.4))\n",
    "\n",
    "\n",
    "model.add(LSTM(units=120, activation='relu'))\n",
    "model.add(Dropout(0.5))\n",
    "\n",
    "model.add(Dense(units=1))\n"
   ]
  },
  {
   "cell_type": "code",
   "execution_count": 26,
   "metadata": {
    "colab": {
     "base_uri": "https://localhost:8080/"
    },
    "executionInfo": {
     "elapsed": 22,
     "status": "ok",
     "timestamp": 1681370803948,
     "user": {
      "displayName": "MANI DURGA SIVA SAI GOPU",
      "userId": "11159615351266071837"
     },
     "user_tz": -330
    },
    "id": "Q7iLyCKxKzkv",
    "outputId": "b906e610-c986-4ddb-c068-489fca2e6b67"
   },
   "outputs": [
    {
     "data": {
      "text/html": [
       "<pre style=\"white-space:pre;overflow-x:auto;line-height:normal;font-family:Menlo,'DejaVu Sans Mono',consolas,'Courier New',monospace\"><span style=\"font-weight: bold\">Model: \"sequential\"</span>\n",
       "</pre>\n"
      ],
      "text/plain": [
       "\u001b[1mModel: \"sequential\"\u001b[0m\n"
      ]
     },
     "metadata": {},
     "output_type": "display_data"
    },
    {
     "data": {
      "text/html": [
       "<pre style=\"white-space:pre;overflow-x:auto;line-height:normal;font-family:Menlo,'DejaVu Sans Mono',consolas,'Courier New',monospace\">┏━━━━━━━━━━━━━━━━━━━━━━━━━━━━━━━━━┳━━━━━━━━━━━━━━━━━━━━━━━━┳━━━━━━━━━━━━━━━┓\n",
       "┃<span style=\"font-weight: bold\"> Layer (type)                    </span>┃<span style=\"font-weight: bold\"> Output Shape           </span>┃<span style=\"font-weight: bold\">       Param # </span>┃\n",
       "┡━━━━━━━━━━━━━━━━━━━━━━━━━━━━━━━━━╇━━━━━━━━━━━━━━━━━━━━━━━━╇━━━━━━━━━━━━━━━┩\n",
       "│ lstm (<span style=\"color: #0087ff; text-decoration-color: #0087ff\">LSTM</span>)                     │ (<span style=\"color: #00d7ff; text-decoration-color: #00d7ff\">None</span>, <span style=\"color: #00af00; text-decoration-color: #00af00\">100</span>, <span style=\"color: #00af00; text-decoration-color: #00af00\">50</span>)        │        <span style=\"color: #00af00; text-decoration-color: #00af00\">10,400</span> │\n",
       "├─────────────────────────────────┼────────────────────────┼───────────────┤\n",
       "│ dropout (<span style=\"color: #0087ff; text-decoration-color: #0087ff\">Dropout</span>)               │ (<span style=\"color: #00d7ff; text-decoration-color: #00d7ff\">None</span>, <span style=\"color: #00af00; text-decoration-color: #00af00\">100</span>, <span style=\"color: #00af00; text-decoration-color: #00af00\">50</span>)        │             <span style=\"color: #00af00; text-decoration-color: #00af00\">0</span> │\n",
       "├─────────────────────────────────┼────────────────────────┼───────────────┤\n",
       "│ lstm_1 (<span style=\"color: #0087ff; text-decoration-color: #0087ff\">LSTM</span>)                   │ (<span style=\"color: #00d7ff; text-decoration-color: #00d7ff\">None</span>, <span style=\"color: #00af00; text-decoration-color: #00af00\">100</span>, <span style=\"color: #00af00; text-decoration-color: #00af00\">60</span>)        │        <span style=\"color: #00af00; text-decoration-color: #00af00\">26,640</span> │\n",
       "├─────────────────────────────────┼────────────────────────┼───────────────┤\n",
       "│ dropout_1 (<span style=\"color: #0087ff; text-decoration-color: #0087ff\">Dropout</span>)             │ (<span style=\"color: #00d7ff; text-decoration-color: #00d7ff\">None</span>, <span style=\"color: #00af00; text-decoration-color: #00af00\">100</span>, <span style=\"color: #00af00; text-decoration-color: #00af00\">60</span>)        │             <span style=\"color: #00af00; text-decoration-color: #00af00\">0</span> │\n",
       "├─────────────────────────────────┼────────────────────────┼───────────────┤\n",
       "│ lstm_2 (<span style=\"color: #0087ff; text-decoration-color: #0087ff\">LSTM</span>)                   │ (<span style=\"color: #00d7ff; text-decoration-color: #00d7ff\">None</span>, <span style=\"color: #00af00; text-decoration-color: #00af00\">100</span>, <span style=\"color: #00af00; text-decoration-color: #00af00\">80</span>)        │        <span style=\"color: #00af00; text-decoration-color: #00af00\">45,120</span> │\n",
       "├─────────────────────────────────┼────────────────────────┼───────────────┤\n",
       "│ dropout_2 (<span style=\"color: #0087ff; text-decoration-color: #0087ff\">Dropout</span>)             │ (<span style=\"color: #00d7ff; text-decoration-color: #00d7ff\">None</span>, <span style=\"color: #00af00; text-decoration-color: #00af00\">100</span>, <span style=\"color: #00af00; text-decoration-color: #00af00\">80</span>)        │             <span style=\"color: #00af00; text-decoration-color: #00af00\">0</span> │\n",
       "├─────────────────────────────────┼────────────────────────┼───────────────┤\n",
       "│ lstm_3 (<span style=\"color: #0087ff; text-decoration-color: #0087ff\">LSTM</span>)                   │ (<span style=\"color: #00d7ff; text-decoration-color: #00d7ff\">None</span>, <span style=\"color: #00af00; text-decoration-color: #00af00\">120</span>)            │        <span style=\"color: #00af00; text-decoration-color: #00af00\">96,480</span> │\n",
       "├─────────────────────────────────┼────────────────────────┼───────────────┤\n",
       "│ dropout_3 (<span style=\"color: #0087ff; text-decoration-color: #0087ff\">Dropout</span>)             │ (<span style=\"color: #00d7ff; text-decoration-color: #00d7ff\">None</span>, <span style=\"color: #00af00; text-decoration-color: #00af00\">120</span>)            │             <span style=\"color: #00af00; text-decoration-color: #00af00\">0</span> │\n",
       "├─────────────────────────────────┼────────────────────────┼───────────────┤\n",
       "│ dense (<span style=\"color: #0087ff; text-decoration-color: #0087ff\">Dense</span>)                   │ (<span style=\"color: #00d7ff; text-decoration-color: #00d7ff\">None</span>, <span style=\"color: #00af00; text-decoration-color: #00af00\">1</span>)              │           <span style=\"color: #00af00; text-decoration-color: #00af00\">121</span> │\n",
       "└─────────────────────────────────┴────────────────────────┴───────────────┘\n",
       "</pre>\n"
      ],
      "text/plain": [
       "┏━━━━━━━━━━━━━━━━━━━━━━━━━━━━━━━━━┳━━━━━━━━━━━━━━━━━━━━━━━━┳━━━━━━━━━━━━━━━┓\n",
       "┃\u001b[1m \u001b[0m\u001b[1mLayer (type)                   \u001b[0m\u001b[1m \u001b[0m┃\u001b[1m \u001b[0m\u001b[1mOutput Shape          \u001b[0m\u001b[1m \u001b[0m┃\u001b[1m \u001b[0m\u001b[1m      Param #\u001b[0m\u001b[1m \u001b[0m┃\n",
       "┡━━━━━━━━━━━━━━━━━━━━━━━━━━━━━━━━━╇━━━━━━━━━━━━━━━━━━━━━━━━╇━━━━━━━━━━━━━━━┩\n",
       "│ lstm (\u001b[38;5;33mLSTM\u001b[0m)                     │ (\u001b[38;5;45mNone\u001b[0m, \u001b[38;5;34m100\u001b[0m, \u001b[38;5;34m50\u001b[0m)        │        \u001b[38;5;34m10,400\u001b[0m │\n",
       "├─────────────────────────────────┼────────────────────────┼───────────────┤\n",
       "│ dropout (\u001b[38;5;33mDropout\u001b[0m)               │ (\u001b[38;5;45mNone\u001b[0m, \u001b[38;5;34m100\u001b[0m, \u001b[38;5;34m50\u001b[0m)        │             \u001b[38;5;34m0\u001b[0m │\n",
       "├─────────────────────────────────┼────────────────────────┼───────────────┤\n",
       "│ lstm_1 (\u001b[38;5;33mLSTM\u001b[0m)                   │ (\u001b[38;5;45mNone\u001b[0m, \u001b[38;5;34m100\u001b[0m, \u001b[38;5;34m60\u001b[0m)        │        \u001b[38;5;34m26,640\u001b[0m │\n",
       "├─────────────────────────────────┼────────────────────────┼───────────────┤\n",
       "│ dropout_1 (\u001b[38;5;33mDropout\u001b[0m)             │ (\u001b[38;5;45mNone\u001b[0m, \u001b[38;5;34m100\u001b[0m, \u001b[38;5;34m60\u001b[0m)        │             \u001b[38;5;34m0\u001b[0m │\n",
       "├─────────────────────────────────┼────────────────────────┼───────────────┤\n",
       "│ lstm_2 (\u001b[38;5;33mLSTM\u001b[0m)                   │ (\u001b[38;5;45mNone\u001b[0m, \u001b[38;5;34m100\u001b[0m, \u001b[38;5;34m80\u001b[0m)        │        \u001b[38;5;34m45,120\u001b[0m │\n",
       "├─────────────────────────────────┼────────────────────────┼───────────────┤\n",
       "│ dropout_2 (\u001b[38;5;33mDropout\u001b[0m)             │ (\u001b[38;5;45mNone\u001b[0m, \u001b[38;5;34m100\u001b[0m, \u001b[38;5;34m80\u001b[0m)        │             \u001b[38;5;34m0\u001b[0m │\n",
       "├─────────────────────────────────┼────────────────────────┼───────────────┤\n",
       "│ lstm_3 (\u001b[38;5;33mLSTM\u001b[0m)                   │ (\u001b[38;5;45mNone\u001b[0m, \u001b[38;5;34m120\u001b[0m)            │        \u001b[38;5;34m96,480\u001b[0m │\n",
       "├─────────────────────────────────┼────────────────────────┼───────────────┤\n",
       "│ dropout_3 (\u001b[38;5;33mDropout\u001b[0m)             │ (\u001b[38;5;45mNone\u001b[0m, \u001b[38;5;34m120\u001b[0m)            │             \u001b[38;5;34m0\u001b[0m │\n",
       "├─────────────────────────────────┼────────────────────────┼───────────────┤\n",
       "│ dense (\u001b[38;5;33mDense\u001b[0m)                   │ (\u001b[38;5;45mNone\u001b[0m, \u001b[38;5;34m1\u001b[0m)              │           \u001b[38;5;34m121\u001b[0m │\n",
       "└─────────────────────────────────┴────────────────────────┴───────────────┘\n"
      ]
     },
     "metadata": {},
     "output_type": "display_data"
    },
    {
     "data": {
      "text/html": [
       "<pre style=\"white-space:pre;overflow-x:auto;line-height:normal;font-family:Menlo,'DejaVu Sans Mono',consolas,'Courier New',monospace\"><span style=\"font-weight: bold\"> Total params: </span><span style=\"color: #00af00; text-decoration-color: #00af00\">178,761</span> (698.29 KB)\n",
       "</pre>\n"
      ],
      "text/plain": [
       "\u001b[1m Total params: \u001b[0m\u001b[38;5;34m178,761\u001b[0m (698.29 KB)\n"
      ]
     },
     "metadata": {},
     "output_type": "display_data"
    },
    {
     "data": {
      "text/html": [
       "<pre style=\"white-space:pre;overflow-x:auto;line-height:normal;font-family:Menlo,'DejaVu Sans Mono',consolas,'Courier New',monospace\"><span style=\"font-weight: bold\"> Trainable params: </span><span style=\"color: #00af00; text-decoration-color: #00af00\">178,761</span> (698.29 KB)\n",
       "</pre>\n"
      ],
      "text/plain": [
       "\u001b[1m Trainable params: \u001b[0m\u001b[38;5;34m178,761\u001b[0m (698.29 KB)\n"
      ]
     },
     "metadata": {},
     "output_type": "display_data"
    },
    {
     "data": {
      "text/html": [
       "<pre style=\"white-space:pre;overflow-x:auto;line-height:normal;font-family:Menlo,'DejaVu Sans Mono',consolas,'Courier New',monospace\"><span style=\"font-weight: bold\"> Non-trainable params: </span><span style=\"color: #00af00; text-decoration-color: #00af00\">0</span> (0.00 B)\n",
       "</pre>\n"
      ],
      "text/plain": [
       "\u001b[1m Non-trainable params: \u001b[0m\u001b[38;5;34m0\u001b[0m (0.00 B)\n"
      ]
     },
     "metadata": {},
     "output_type": "display_data"
    }
   ],
   "source": [
    "model.summary()"
   ]
  },
  {
   "cell_type": "code",
   "execution_count": 27,
   "metadata": {
    "colab": {
     "base_uri": "https://localhost:8080/"
    },
    "executionInfo": {
     "elapsed": 675596,
     "status": "ok",
     "timestamp": 1681371487808,
     "user": {
      "displayName": "MANI DURGA SIVA SAI GOPU",
      "userId": "11159615351266071837"
     },
     "user_tz": -330
    },
    "id": "oufH3HJ5Kzkv",
    "outputId": "5242efb4-215e-472f-d419-37d2404e4952"
   },
   "outputs": [
    {
     "name": "stdout",
     "output_type": "stream",
     "text": [
      "Epoch 1/50\n",
      "\u001b[1m25/25\u001b[0m \u001b[32m━━━━━━━━━━━━━━━━━━━━\u001b[0m\u001b[37m\u001b[0m \u001b[1m6s\u001b[0m 84ms/step - loss: 0.2661\n",
      "Epoch 2/50\n",
      "\u001b[1m25/25\u001b[0m \u001b[32m━━━━━━━━━━━━━━━━━━━━\u001b[0m\u001b[37m\u001b[0m \u001b[1m2s\u001b[0m 83ms/step - loss: 0.0222\n",
      "Epoch 3/50\n",
      "\u001b[1m25/25\u001b[0m \u001b[32m━━━━━━━━━━━━━━━━━━━━\u001b[0m\u001b[37m\u001b[0m \u001b[1m2s\u001b[0m 83ms/step - loss: 0.0187\n",
      "Epoch 4/50\n",
      "\u001b[1m25/25\u001b[0m \u001b[32m━━━━━━━━━━━━━━━━━━━━\u001b[0m\u001b[37m\u001b[0m \u001b[1m2s\u001b[0m 83ms/step - loss: 0.0142\n",
      "Epoch 5/50\n",
      "\u001b[1m25/25\u001b[0m \u001b[32m━━━━━━━━━━━━━━━━━━━━\u001b[0m\u001b[37m\u001b[0m \u001b[1m2s\u001b[0m 83ms/step - loss: 0.0130\n",
      "Epoch 6/50\n",
      "\u001b[1m25/25\u001b[0m \u001b[32m━━━━━━━━━━━━━━━━━━━━\u001b[0m\u001b[37m\u001b[0m \u001b[1m3s\u001b[0m 111ms/step - loss: 0.0148\n",
      "Epoch 7/50\n",
      "\u001b[1m25/25\u001b[0m \u001b[32m━━━━━━━━━━━━━━━━━━━━\u001b[0m\u001b[37m\u001b[0m \u001b[1m3s\u001b[0m 114ms/step - loss: 0.0125\n",
      "Epoch 8/50\n",
      "\u001b[1m25/25\u001b[0m \u001b[32m━━━━━━━━━━━━━━━━━━━━\u001b[0m\u001b[37m\u001b[0m \u001b[1m3s\u001b[0m 114ms/step - loss: 0.0116\n",
      "Epoch 9/50\n",
      "\u001b[1m25/25\u001b[0m \u001b[32m━━━━━━━━━━━━━━━━━━━━\u001b[0m\u001b[37m\u001b[0m \u001b[1m3s\u001b[0m 123ms/step - loss: 0.0115\n",
      "Epoch 10/50\n",
      "\u001b[1m25/25\u001b[0m \u001b[32m━━━━━━━━━━━━━━━━━━━━\u001b[0m\u001b[37m\u001b[0m \u001b[1m3s\u001b[0m 111ms/step - loss: 0.0105\n",
      "Epoch 11/50\n",
      "\u001b[1m25/25\u001b[0m \u001b[32m━━━━━━━━━━━━━━━━━━━━\u001b[0m\u001b[37m\u001b[0m \u001b[1m3s\u001b[0m 113ms/step - loss: 0.0109\n",
      "Epoch 12/50\n",
      "\u001b[1m25/25\u001b[0m \u001b[32m━━━━━━━━━━━━━━━━━━━━\u001b[0m\u001b[37m\u001b[0m \u001b[1m3s\u001b[0m 109ms/step - loss: 0.0104\n",
      "Epoch 13/50\n",
      "\u001b[1m25/25\u001b[0m \u001b[32m━━━━━━━━━━━━━━━━━━━━\u001b[0m\u001b[37m\u001b[0m \u001b[1m3s\u001b[0m 113ms/step - loss: 0.0091\n",
      "Epoch 14/50\n",
      "\u001b[1m25/25\u001b[0m \u001b[32m━━━━━━━━━━━━━━━━━━━━\u001b[0m\u001b[37m\u001b[0m \u001b[1m3s\u001b[0m 110ms/step - loss: 0.0099\n",
      "Epoch 15/50\n",
      "\u001b[1m25/25\u001b[0m \u001b[32m━━━━━━━━━━━━━━━━━━━━\u001b[0m\u001b[37m\u001b[0m \u001b[1m3s\u001b[0m 115ms/step - loss: 0.0094\n",
      "Epoch 16/50\n",
      "\u001b[1m25/25\u001b[0m \u001b[32m━━━━━━━━━━━━━━━━━━━━\u001b[0m\u001b[37m\u001b[0m \u001b[1m3s\u001b[0m 113ms/step - loss: 0.0104\n",
      "Epoch 17/50\n",
      "\u001b[1m25/25\u001b[0m \u001b[32m━━━━━━━━━━━━━━━━━━━━\u001b[0m\u001b[37m\u001b[0m \u001b[1m3s\u001b[0m 109ms/step - loss: 0.0112\n",
      "Epoch 18/50\n",
      "\u001b[1m25/25\u001b[0m \u001b[32m━━━━━━━━━━━━━━━━━━━━\u001b[0m\u001b[37m\u001b[0m \u001b[1m3s\u001b[0m 114ms/step - loss: 0.0099\n",
      "Epoch 19/50\n",
      "\u001b[1m25/25\u001b[0m \u001b[32m━━━━━━━━━━━━━━━━━━━━\u001b[0m\u001b[37m\u001b[0m \u001b[1m3s\u001b[0m 127ms/step - loss: 0.0096\n",
      "Epoch 20/50\n",
      "\u001b[1m25/25\u001b[0m \u001b[32m━━━━━━━━━━━━━━━━━━━━\u001b[0m\u001b[37m\u001b[0m \u001b[1m3s\u001b[0m 110ms/step - loss: 0.0080\n",
      "Epoch 21/50\n",
      "\u001b[1m25/25\u001b[0m \u001b[32m━━━━━━━━━━━━━━━━━━━━\u001b[0m\u001b[37m\u001b[0m \u001b[1m3s\u001b[0m 110ms/step - loss: 0.0092\n",
      "Epoch 22/50\n",
      "\u001b[1m25/25\u001b[0m \u001b[32m━━━━━━━━━━━━━━━━━━━━\u001b[0m\u001b[37m\u001b[0m \u001b[1m3s\u001b[0m 111ms/step - loss: 0.0080\n",
      "Epoch 23/50\n",
      "\u001b[1m25/25\u001b[0m \u001b[32m━━━━━━━━━━━━━━━━━━━━\u001b[0m\u001b[37m\u001b[0m \u001b[1m3s\u001b[0m 110ms/step - loss: 0.0086\n",
      "Epoch 24/50\n",
      "\u001b[1m25/25\u001b[0m \u001b[32m━━━━━━━━━━━━━━━━━━━━\u001b[0m\u001b[37m\u001b[0m \u001b[1m3s\u001b[0m 112ms/step - loss: 0.0084\n",
      "Epoch 25/50\n",
      "\u001b[1m25/25\u001b[0m \u001b[32m━━━━━━━━━━━━━━━━━━━━\u001b[0m\u001b[37m\u001b[0m \u001b[1m3s\u001b[0m 111ms/step - loss: 0.0091\n",
      "Epoch 26/50\n",
      "\u001b[1m25/25\u001b[0m \u001b[32m━━━━━━━━━━━━━━━━━━━━\u001b[0m\u001b[37m\u001b[0m \u001b[1m3s\u001b[0m 110ms/step - loss: 0.0081\n",
      "Epoch 27/50\n",
      "\u001b[1m25/25\u001b[0m \u001b[32m━━━━━━━━━━━━━━━━━━━━\u001b[0m\u001b[37m\u001b[0m \u001b[1m3s\u001b[0m 111ms/step - loss: 0.0074\n",
      "Epoch 28/50\n",
      "\u001b[1m25/25\u001b[0m \u001b[32m━━━━━━━━━━━━━━━━━━━━\u001b[0m\u001b[37m\u001b[0m \u001b[1m3s\u001b[0m 111ms/step - loss: 0.0080\n",
      "Epoch 29/50\n",
      "\u001b[1m25/25\u001b[0m \u001b[32m━━━━━━━━━━━━━━━━━━━━\u001b[0m\u001b[37m\u001b[0m \u001b[1m3s\u001b[0m 116ms/step - loss: 0.0091\n",
      "Epoch 30/50\n",
      "\u001b[1m25/25\u001b[0m \u001b[32m━━━━━━━━━━━━━━━━━━━━\u001b[0m\u001b[37m\u001b[0m \u001b[1m3s\u001b[0m 133ms/step - loss: 0.0081\n",
      "Epoch 31/50\n",
      "\u001b[1m25/25\u001b[0m \u001b[32m━━━━━━━━━━━━━━━━━━━━\u001b[0m\u001b[37m\u001b[0m \u001b[1m3s\u001b[0m 112ms/step - loss: 0.0081\n",
      "Epoch 32/50\n",
      "\u001b[1m25/25\u001b[0m \u001b[32m━━━━━━━━━━━━━━━━━━━━\u001b[0m\u001b[37m\u001b[0m \u001b[1m3s\u001b[0m 112ms/step - loss: 0.0074\n",
      "Epoch 33/50\n",
      "\u001b[1m25/25\u001b[0m \u001b[32m━━━━━━━━━━━━━━━━━━━━\u001b[0m\u001b[37m\u001b[0m \u001b[1m3s\u001b[0m 111ms/step - loss: 0.0077\n",
      "Epoch 34/50\n",
      "\u001b[1m25/25\u001b[0m \u001b[32m━━━━━━━━━━━━━━━━━━━━\u001b[0m\u001b[37m\u001b[0m \u001b[1m3s\u001b[0m 114ms/step - loss: 0.0078\n",
      "Epoch 35/50\n",
      "\u001b[1m25/25\u001b[0m \u001b[32m━━━━━━━━━━━━━━━━━━━━\u001b[0m\u001b[37m\u001b[0m \u001b[1m3s\u001b[0m 112ms/step - loss: 0.0070\n",
      "Epoch 36/50\n",
      "\u001b[1m25/25\u001b[0m \u001b[32m━━━━━━━━━━━━━━━━━━━━\u001b[0m\u001b[37m\u001b[0m \u001b[1m3s\u001b[0m 111ms/step - loss: 0.0078\n",
      "Epoch 37/50\n",
      "\u001b[1m25/25\u001b[0m \u001b[32m━━━━━━━━━━━━━━━━━━━━\u001b[0m\u001b[37m\u001b[0m \u001b[1m3s\u001b[0m 112ms/step - loss: 0.0070\n",
      "Epoch 38/50\n",
      "\u001b[1m25/25\u001b[0m \u001b[32m━━━━━━━━━━━━━━━━━━━━\u001b[0m\u001b[37m\u001b[0m \u001b[1m3s\u001b[0m 111ms/step - loss: 0.0070\n",
      "Epoch 39/50\n",
      "\u001b[1m25/25\u001b[0m \u001b[32m━━━━━━━━━━━━━━━━━━━━\u001b[0m\u001b[37m\u001b[0m \u001b[1m3s\u001b[0m 115ms/step - loss: 0.0066\n",
      "Epoch 40/50\n",
      "\u001b[1m25/25\u001b[0m \u001b[32m━━━━━━━━━━━━━━━━━━━━\u001b[0m\u001b[37m\u001b[0m \u001b[1m3s\u001b[0m 112ms/step - loss: 0.0077\n",
      "Epoch 41/50\n",
      "\u001b[1m25/25\u001b[0m \u001b[32m━━━━━━━━━━━━━━━━━━━━\u001b[0m\u001b[37m\u001b[0m \u001b[1m3s\u001b[0m 112ms/step - loss: 0.0072\n",
      "Epoch 42/50\n",
      "\u001b[1m25/25\u001b[0m \u001b[32m━━━━━━━━━━━━━━━━━━━━\u001b[0m\u001b[37m\u001b[0m \u001b[1m3s\u001b[0m 113ms/step - loss: 0.0066\n",
      "Epoch 43/50\n",
      "\u001b[1m25/25\u001b[0m \u001b[32m━━━━━━━━━━━━━━━━━━━━\u001b[0m\u001b[37m\u001b[0m \u001b[1m3s\u001b[0m 113ms/step - loss: 0.0066\n",
      "Epoch 44/50\n",
      "\u001b[1m25/25\u001b[0m \u001b[32m━━━━━━━━━━━━━━━━━━━━\u001b[0m\u001b[37m\u001b[0m \u001b[1m3s\u001b[0m 112ms/step - loss: 0.0066\n",
      "Epoch 45/50\n",
      "\u001b[1m25/25\u001b[0m \u001b[32m━━━━━━━━━━━━━━━━━━━━\u001b[0m\u001b[37m\u001b[0m \u001b[1m3s\u001b[0m 111ms/step - loss: 0.0067\n",
      "Epoch 46/50\n",
      "\u001b[1m25/25\u001b[0m \u001b[32m━━━━━━━━━━━━━━━━━━━━\u001b[0m\u001b[37m\u001b[0m \u001b[1m3s\u001b[0m 112ms/step - loss: 0.0062\n",
      "Epoch 47/50\n",
      "\u001b[1m25/25\u001b[0m \u001b[32m━━━━━━━━━━━━━━━━━━━━\u001b[0m\u001b[37m\u001b[0m \u001b[1m3s\u001b[0m 112ms/step - loss: 0.0073\n",
      "Epoch 48/50\n",
      "\u001b[1m25/25\u001b[0m \u001b[32m━━━━━━━━━━━━━━━━━━━━\u001b[0m\u001b[37m\u001b[0m \u001b[1m3s\u001b[0m 117ms/step - loss: 0.0066\n",
      "Epoch 49/50\n",
      "\u001b[1m25/25\u001b[0m \u001b[32m━━━━━━━━━━━━━━━━━━━━\u001b[0m\u001b[37m\u001b[0m \u001b[1m3s\u001b[0m 115ms/step - loss: 0.0053\n",
      "Epoch 50/50\n",
      "\u001b[1m25/25\u001b[0m \u001b[32m━━━━━━━━━━━━━━━━━━━━\u001b[0m\u001b[37m\u001b[0m \u001b[1m3s\u001b[0m 115ms/step - loss: 0.0058\n"
     ]
    },
    {
     "data": {
      "text/plain": [
       "<keras.src.callbacks.history.History at 0x213c6e4cd30>"
      ]
     },
     "execution_count": 27,
     "metadata": {},
     "output_type": "execute_result"
    }
   ],
   "source": [
    "model.compile(optimizer='adam',loss='mean_squared_error')\n",
    "model.fit(x_train,y_train,epochs=50)\n"
   ]
  },
  {
   "cell_type": "code",
   "execution_count": 29,
   "metadata": {
    "id": "MaagvxH6Kzkv"
   },
   "outputs": [
    {
     "name": "stderr",
     "output_type": "stream",
     "text": [
      "WARNING:absl:You are saving your model as an HDF5 file via `model.save()` or `keras.saving.save_model(model)`. This file format is considered legacy. We recommend using instead the native Keras format, e.g. `model.save('my_model.keras')` or `keras.saving.save_model(model, 'my_model.keras')`. \n"
     ]
    }
   ],
   "source": [
    "model.save('keras_model.h5')"
   ]
  }
 ],
 "metadata": {
  "colab": {
   "provenance": [
    {
     "file_id": "17Bh9kvLvMricVlraG_wtvO4-5duIU01Y",
     "timestamp": 1681378000656
    }
   ]
  },
  "kernelspec": {
   "display_name": "Python 3",
   "language": "python",
   "name": "python3"
  },
  "language_info": {
   "codemirror_mode": {
    "name": "ipython",
    "version": 3
   },
   "file_extension": ".py",
   "mimetype": "text/x-python",
   "name": "python",
   "nbconvert_exporter": "python",
   "pygments_lexer": "ipython3",
   "version": "3.10.10"
  },
  "orig_nbformat": 4
 },
 "nbformat": 4,
 "nbformat_minor": 0
}
